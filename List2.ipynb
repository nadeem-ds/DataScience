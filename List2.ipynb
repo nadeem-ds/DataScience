{
  "nbformat": 4,
  "nbformat_minor": 0,
  "metadata": {
    "colab": {
      "provenance": []
    },
    "kernelspec": {
      "name": "python3",
      "display_name": "Python 3"
    },
    "language_info": {
      "name": "python"
    }
  },
  "cells": [
    {
      "cell_type": "code",
      "execution_count": null,
      "metadata": {
        "colab": {
          "base_uri": "https://localhost:8080/"
        },
        "id": "Kk4kgN4oaOTk",
        "outputId": "dc8c84d1-a618-4ad5-d116-979796a983ad"
      },
      "outputs": [
        {
          "output_type": "execute_result",
          "data": {
            "text/plain": [
              "[[1, 2, 3], [4, 5, 6], [8, 9, 10]]"
            ]
          },
          "metadata": {},
          "execution_count": 1
        }
      ],
      "source": [
        "A = [[1,2,3],[4,5,6],[8,9,10]]\n",
        "A"
      ]
    },
    {
      "cell_type": "code",
      "source": [
        "A[0][0]"
      ],
      "metadata": {
        "colab": {
          "base_uri": "https://localhost:8080/"
        },
        "id": "jRxjvj5QaVSN",
        "outputId": "3157ff60-9690-4fdf-8f3a-5027585f4e1e"
      },
      "execution_count": null,
      "outputs": [
        {
          "output_type": "execute_result",
          "data": {
            "text/plain": [
              "1"
            ]
          },
          "metadata": {},
          "execution_count": 2
        }
      ]
    },
    {
      "cell_type": "code",
      "source": [
        "B = [[\"watch\",1000],[\"phonw\",2000],[\"laptop\",7000]]\n",
        "\n",
        "for i in B:\n",
        "    print(i)\n",
        "\n",
        "B[0][1]+B[1][1]+B[2][1]"
      ],
      "metadata": {
        "colab": {
          "base_uri": "https://localhost:8080/"
        },
        "id": "V77Vuq1eaZeH",
        "outputId": "5ac2b5bf-2830-4424-d8f7-1e09d50ba422"
      },
      "execution_count": null,
      "outputs": [
        {
          "output_type": "stream",
          "name": "stdout",
          "text": [
            "['watch', 1000]\n",
            "['phonw', 2000]\n",
            "['laptop', 7000]\n"
          ]
        },
        {
          "output_type": "execute_result",
          "data": {
            "text/plain": [
              "10000"
            ]
          },
          "metadata": {},
          "execution_count": 6
        }
      ]
    },
    {
      "cell_type": "code",
      "source": [
        "totalCost = 0;\n",
        "for i in range(len(B)):\n",
        "    totalCost += B[i][1]\n",
        "print(totalCost)\n"
      ],
      "metadata": {
        "colab": {
          "base_uri": "https://localhost:8080/"
        },
        "id": "88pgoYlQcA3v",
        "outputId": "1047f13e-2e27-4620-86fd-15dbeadcba6a"
      },
      "execution_count": null,
      "outputs": [
        {
          "output_type": "stream",
          "name": "stdout",
          "text": [
            "10000\n"
          ]
        }
      ]
    },
    {
      "cell_type": "code",
      "source": [
        "totalCost = 0\n",
        "for item in B:\n",
        "  print(item)\n",
        "  totalCost+= item[1]\n",
        "\n",
        "print(totalCost)"
      ],
      "metadata": {
        "colab": {
          "base_uri": "https://localhost:8080/"
        },
        "id": "hyOlaYkQcZ5P",
        "outputId": "64fc4277-36cd-4e37-cf02-263d81ca49ba"
      },
      "execution_count": null,
      "outputs": [
        {
          "output_type": "stream",
          "name": "stdout",
          "text": [
            "['watch', 1000]\n",
            "['phonw', 2000]\n",
            "['laptop', 7000]\n",
            "10000\n"
          ]
        }
      ]
    },
    {
      "cell_type": "code",
      "source": [
        "#List comprenhension"
      ],
      "metadata": {
        "id": "P82AmcLidEUK"
      },
      "execution_count": null,
      "outputs": []
    },
    {
      "cell_type": "code",
      "source": [
        "A = [1,2,3,4,45,5,6,6,7,7,23,34,56]\n",
        "C = []\n",
        "for i in A:\n",
        "    # print(i**2)\n",
        "    C.append(i**2)\n",
        "\n",
        "print(C)"
      ],
      "metadata": {
        "colab": {
          "base_uri": "https://localhost:8080/"
        },
        "id": "P4qvk7zzeUmt",
        "outputId": "a6f1577d-1416-4e1f-82de-3d7fad6f9c86"
      },
      "execution_count": null,
      "outputs": [
        {
          "output_type": "stream",
          "name": "stdout",
          "text": [
            "[1, 4, 9, 16, 2025, 25, 36, 36, 49, 49, 529, 1156, 3136]\n"
          ]
        }
      ]
    },
    {
      "cell_type": "code",
      "source": [
        "ans = [i**2 for i in A]\n",
        "print(ans)"
      ],
      "metadata": {
        "colab": {
          "base_uri": "https://localhost:8080/"
        },
        "id": "5_UdedMNebwO",
        "outputId": "51750526-9bb0-46ac-cc15-81cf39e8696b"
      },
      "execution_count": null,
      "outputs": [
        {
          "output_type": "stream",
          "name": "stdout",
          "text": [
            "[1, 4, 9, 16, 2025, 25, 36, 36, 49, 49, 529, 1156, 3136]\n"
          ]
        }
      ]
    },
    {
      "cell_type": "code",
      "source": [],
      "metadata": {
        "id": "cp8BH05kepaW"
      },
      "execution_count": null,
      "outputs": []
    },
    {
      "cell_type": "code",
      "source": [
        "# only take the square of odd number in the list a\n",
        "\n",
        "ans = [i**2 for i in A if i%2!=0]\n",
        "print(ans)"
      ],
      "metadata": {
        "colab": {
          "base_uri": "https://localhost:8080/"
        },
        "id": "Pz1tjrXFe6x8",
        "outputId": "8897daeb-5e27-4fe2-b90e-ab1e5083c5a6"
      },
      "execution_count": null,
      "outputs": [
        {
          "output_type": "stream",
          "name": "stdout",
          "text": [
            "[1, 9, 2025, 25, 49, 49, 529]\n"
          ]
        }
      ]
    },
    {
      "cell_type": "code",
      "source": [
        "ans = [i**2 for i in A if i%2==0]\n",
        "print(ans)"
      ],
      "metadata": {
        "colab": {
          "base_uri": "https://localhost:8080/"
        },
        "id": "Vuuoez7ifJmt",
        "outputId": "070e3825-c67d-49d9-c565-466c3be9e1ad"
      },
      "execution_count": null,
      "outputs": [
        {
          "output_type": "stream",
          "name": "stdout",
          "text": [
            "[4, 16, 36, 36, 1156, 3136]\n"
          ]
        }
      ]
    },
    {
      "cell_type": "code",
      "source": [
        "#count\n"
      ],
      "metadata": {
        "id": "8cmJNXZEfWph"
      },
      "execution_count": null,
      "outputs": []
    },
    {
      "cell_type": "code",
      "source": [
        "D = [3,5,6,3,2,21,4,6,3,2,124,2,5,3,2,2,43]\n",
        "D.count(2)"
      ],
      "metadata": {
        "colab": {
          "base_uri": "https://localhost:8080/"
        },
        "id": "40S5t6MKglVM",
        "outputId": "b18e7c3b-26e5-4191-f315-b12349227a30"
      },
      "execution_count": null,
      "outputs": [
        {
          "output_type": "execute_result",
          "data": {
            "text/plain": [
              "5"
            ]
          },
          "metadata": {},
          "execution_count": 19
        }
      ]
    },
    {
      "cell_type": "code",
      "source": [
        "for i in D:\n",
        "  print(f\" {i} in coming in {D.count(i)} times\")"
      ],
      "metadata": {
        "colab": {
          "base_uri": "https://localhost:8080/"
        },
        "id": "jOsWUSZ_glTw",
        "outputId": "86d059f9-7c0a-47f3-a7d6-2521197bfba7"
      },
      "execution_count": null,
      "outputs": [
        {
          "output_type": "stream",
          "name": "stdout",
          "text": [
            " 3 in coming in 4 times\n",
            " 5 in coming in 2 times\n",
            " 6 in coming in 2 times\n",
            " 3 in coming in 4 times\n",
            " 2 in coming in 5 times\n",
            " 21 in coming in 1 times\n",
            " 4 in coming in 1 times\n",
            " 6 in coming in 2 times\n",
            " 3 in coming in 4 times\n",
            " 2 in coming in 5 times\n",
            " 124 in coming in 1 times\n",
            " 2 in coming in 5 times\n",
            " 5 in coming in 2 times\n",
            " 3 in coming in 4 times\n",
            " 2 in coming in 5 times\n",
            " 2 in coming in 5 times\n",
            " 43 in coming in 1 times\n"
          ]
        }
      ]
    },
    {
      "cell_type": "code",
      "source": [
        "A = \"Nadeem\"\n",
        "for i in A:\n",
        "  print(i,A.count(i))"
      ],
      "metadata": {
        "colab": {
          "base_uri": "https://localhost:8080/"
        },
        "id": "xlKOPp-NglRX",
        "outputId": "c2528141-5aa9-476a-b5ac-e3839960889a"
      },
      "execution_count": null,
      "outputs": [
        {
          "output_type": "stream",
          "name": "stdout",
          "text": [
            "N 1\n",
            "a 1\n",
            "d 1\n",
            "e 2\n",
            "e 2\n",
            "m 1\n"
          ]
        }
      ]
    },
    {
      "cell_type": "code",
      "source": [
        "B = [\"Nadeem\",\"Anwar\",\"Khan\",\"Nadeem\"]\n",
        "for i in B:\n",
        "  print(i , B.count(i))"
      ],
      "metadata": {
        "colab": {
          "base_uri": "https://localhost:8080/"
        },
        "id": "-kxp1Yl3glPE",
        "outputId": "37ea2a10-42ec-401f-ea13-f6e44d29cb6c"
      },
      "execution_count": null,
      "outputs": [
        {
          "output_type": "stream",
          "name": "stdout",
          "text": [
            "Nadeem 2\n",
            "Anwar 1\n",
            "Khan 1\n",
            "Nadeem 2\n"
          ]
        }
      ]
    },
    {
      "cell_type": "code",
      "source": [
        "#extend\n"
      ],
      "metadata": {
        "id": "JH5MYI9SglM1"
      },
      "execution_count": null,
      "outputs": []
    },
    {
      "cell_type": "code",
      "source": [
        "A = [1,2,4,5]\n",
        "B = [5,7,9,2]\n"
      ],
      "metadata": {
        "id": "bUD6nJtFglKh"
      },
      "execution_count": null,
      "outputs": []
    },
    {
      "cell_type": "code",
      "source": [
        "# A.extend(B)\n",
        "# A"
      ],
      "metadata": {
        "id": "igKMqog-glH_"
      },
      "execution_count": null,
      "outputs": []
    },
    {
      "cell_type": "code",
      "source": [
        "A.append(B)\n",
        "A"
      ],
      "metadata": {
        "colab": {
          "base_uri": "https://localhost:8080/"
        },
        "id": "EfnPOc6KglFV",
        "outputId": "95a3da62-7f03-42ee-c739-f7857a9b8640"
      },
      "execution_count": null,
      "outputs": [
        {
          "output_type": "execute_result",
          "data": {
            "text/plain": [
              "[1, 2, 4, 5, [5, 7, 9, 2]]"
            ]
          },
          "metadata": {},
          "execution_count": 43
        }
      ]
    },
    {
      "cell_type": "code",
      "source": [
        "#index method\n",
        "\n",
        "A = [2,3,4,5,7,7,1,2,34,4,56,77,3,2,2,6,4,3,2,5,65,3,2,2]\n",
        "\n",
        "A.index(56)\n",
        "\n"
      ],
      "metadata": {
        "colab": {
          "base_uri": "https://localhost:8080/"
        },
        "id": "3NlkCx2ggk_n",
        "outputId": "f3a0d5dc-278c-44f8-c466-2826a57f7c1d"
      },
      "execution_count": null,
      "outputs": [
        {
          "output_type": "execute_result",
          "data": {
            "text/plain": [
              "10"
            ]
          },
          "metadata": {},
          "execution_count": 45
        }
      ]
    },
    {
      "cell_type": "code",
      "source": [
        "C = [2,3,4+3j,True,\"Nadeem\",1+1j]\n",
        "\n",
        "for i in C:\n",
        "  # if type(i)==complex:\n",
        "  if isinstance(i,complex):\n",
        "    print(C.index(i))"
      ],
      "metadata": {
        "colab": {
          "base_uri": "https://localhost:8080/"
        },
        "id": "L_AY3M2sgk4k",
        "outputId": "b90b5d4d-f2f5-4098-9afe-94d30add2e9b"
      },
      "execution_count": null,
      "outputs": [
        {
          "output_type": "stream",
          "name": "stdout",
          "text": [
            "2\n",
            "5\n"
          ]
        }
      ]
    },
    {
      "cell_type": "code",
      "source": [],
      "metadata": {
        "id": "nsby9MBXgkvO"
      },
      "execution_count": null,
      "outputs": []
    },
    {
      "cell_type": "code",
      "source": [],
      "metadata": {
        "id": "TTWbna5ksb89"
      },
      "execution_count": null,
      "outputs": []
    },
    {
      "cell_type": "markdown",
      "source": [
        "Len\n"
      ],
      "metadata": {
        "id": "Q5i-sRv5scdd"
      }
    },
    {
      "cell_type": "code",
      "source": [
        "A = [2,3,45,2,21,4]\n",
        "len(A)"
      ],
      "metadata": {
        "colab": {
          "base_uri": "https://localhost:8080/"
        },
        "id": "iI8sI7shsd2s",
        "outputId": "686f2de8-26ae-421f-911f-5f20b8822d73"
      },
      "execution_count": 2,
      "outputs": [
        {
          "output_type": "execute_result",
          "data": {
            "text/plain": [
              "6"
            ]
          },
          "metadata": {},
          "execution_count": 2
        }
      ]
    },
    {
      "cell_type": "code",
      "source": [],
      "metadata": {
        "id": "maGEvov6sgbk"
      },
      "execution_count": null,
      "outputs": []
    },
    {
      "cell_type": "markdown",
      "source": [
        "# insert\n",
        "# insert the data on specific index"
      ],
      "metadata": {
        "id": "LCVSPmvesw-A"
      }
    },
    {
      "cell_type": "code",
      "source": [
        "A = [3,6,87,3,21,3,45,3,2]\n",
        "A.insert(1,99)"
      ],
      "metadata": {
        "id": "IM68a2v-s0nj"
      },
      "execution_count": 7,
      "outputs": []
    },
    {
      "cell_type": "code",
      "source": [
        "A"
      ],
      "metadata": {
        "colab": {
          "base_uri": "https://localhost:8080/"
        },
        "id": "2uO3hGnes6CS",
        "outputId": "515aadce-544d-4924-b0fe-a3900f028fcc"
      },
      "execution_count": 8,
      "outputs": [
        {
          "output_type": "execute_result",
          "data": {
            "text/plain": [
              "[3, 99, 6, 87, 3, 21, 3, 45, 3, 2]"
            ]
          },
          "metadata": {},
          "execution_count": 8
        }
      ]
    },
    {
      "cell_type": "code",
      "source": [],
      "metadata": {
        "id": "C6pPSaBLs-uD"
      },
      "execution_count": null,
      "outputs": []
    },
    {
      "cell_type": "markdown",
      "source": [
        "# remove"
      ],
      "metadata": {
        "id": "SInO-FWutoRE"
      }
    },
    {
      "cell_type": "code",
      "source": [
        "A = [7,9,4,2,1,4,6,7,8]\n",
        "A.remove(4)\n",
        "A"
      ],
      "metadata": {
        "colab": {
          "base_uri": "https://localhost:8080/"
        },
        "id": "dPXUbCRCtqZL",
        "outputId": "500df115-7f8e-4740-cb3b-cf27d4d863a9"
      },
      "execution_count": 11,
      "outputs": [
        {
          "output_type": "execute_result",
          "data": {
            "text/plain": [
              "[7, 9, 2, 1, 4, 6, 7, 8]"
            ]
          },
          "metadata": {},
          "execution_count": 11
        }
      ]
    },
    {
      "cell_type": "code",
      "source": [],
      "metadata": {
        "id": "q4RiwFc8tujg"
      },
      "execution_count": null,
      "outputs": []
    },
    {
      "cell_type": "markdown",
      "source": [
        "# Pop\n",
        "#remove the element from last"
      ],
      "metadata": {
        "id": "-pDN7SfJtzA6"
      }
    },
    {
      "cell_type": "code",
      "source": [
        "A = [6,8,2,9,1]\n",
        "A.pop()"
      ],
      "metadata": {
        "colab": {
          "base_uri": "https://localhost:8080/"
        },
        "id": "sRXaXmsct5wF",
        "outputId": "c7c69dd1-e5bc-4f8c-b671-02b2d9c2e422"
      },
      "execution_count": 12,
      "outputs": [
        {
          "output_type": "execute_result",
          "data": {
            "text/plain": [
              "1"
            ]
          },
          "metadata": {},
          "execution_count": 12
        }
      ]
    },
    {
      "cell_type": "code",
      "source": [
        "A"
      ],
      "metadata": {
        "colab": {
          "base_uri": "https://localhost:8080/"
        },
        "id": "CCBKb3jNt7s9",
        "outputId": "100a50e5-7d15-4ffc-dc17-b6ded6930b96"
      },
      "execution_count": 13,
      "outputs": [
        {
          "output_type": "execute_result",
          "data": {
            "text/plain": [
              "[6, 8, 2, 9]"
            ]
          },
          "metadata": {},
          "execution_count": 13
        }
      ]
    },
    {
      "cell_type": "code",
      "source": [],
      "metadata": {
        "id": "H9Q29xDit9P6"
      },
      "execution_count": null,
      "outputs": []
    },
    {
      "cell_type": "markdown",
      "source": [
        "# Clear\n",
        "#clear the list"
      ],
      "metadata": {
        "id": "icr6ynczuC8H"
      }
    },
    {
      "cell_type": "code",
      "source": [
        "A = [9,0,2,4,2,4,2]\n",
        "A.clear()"
      ],
      "metadata": {
        "id": "xvlJBxbouEzg"
      },
      "execution_count": 14,
      "outputs": []
    },
    {
      "cell_type": "code",
      "source": [
        "A"
      ],
      "metadata": {
        "colab": {
          "base_uri": "https://localhost:8080/"
        },
        "id": "q8R6I-59uFLl",
        "outputId": "2ef5b37e-186b-44b8-a781-51b731bd667a"
      },
      "execution_count": 15,
      "outputs": [
        {
          "output_type": "execute_result",
          "data": {
            "text/plain": [
              "[]"
            ]
          },
          "metadata": {},
          "execution_count": 15
        }
      ]
    },
    {
      "cell_type": "code",
      "source": [],
      "metadata": {
        "id": "jG1i35y4uFOT"
      },
      "execution_count": null,
      "outputs": []
    },
    {
      "cell_type": "markdown",
      "source": [
        "# count\n",
        "# it give this number is coming how many times\n"
      ],
      "metadata": {
        "id": "QVKZwko6uNEZ"
      }
    },
    {
      "cell_type": "code",
      "source": [
        "A = [6,89,3,1,4,6,8,4,3]\n",
        "A.count(1)"
      ],
      "metadata": {
        "colab": {
          "base_uri": "https://localhost:8080/"
        },
        "id": "ranpO1CSuFQ5",
        "outputId": "86bb4a1d-bc8e-4bb5-a5d5-6d8771ff173a"
      },
      "execution_count": 16,
      "outputs": [
        {
          "output_type": "execute_result",
          "data": {
            "text/plain": [
              "1"
            ]
          },
          "metadata": {},
          "execution_count": 16
        }
      ]
    },
    {
      "cell_type": "code",
      "source": [],
      "metadata": {
        "id": "1P3Wj0TuuFTE"
      },
      "execution_count": null,
      "outputs": []
    },
    {
      "cell_type": "markdown",
      "source": [
        "# sort\n",
        "\n",
        "# it sort the list into the ascending or descending order"
      ],
      "metadata": {
        "id": "JsWR8q9zub_A"
      }
    },
    {
      "cell_type": "code",
      "source": [
        "A = [9,8,6,2,1]\n",
        "A.sort()"
      ],
      "metadata": {
        "id": "Ok47S9P9uFVS"
      },
      "execution_count": 17,
      "outputs": []
    },
    {
      "cell_type": "code",
      "source": [
        "A"
      ],
      "metadata": {
        "colab": {
          "base_uri": "https://localhost:8080/"
        },
        "id": "Gcjqa-zVumgC",
        "outputId": "83882861-56ee-4739-cd04-8dca295c2d88"
      },
      "execution_count": 18,
      "outputs": [
        {
          "output_type": "execute_result",
          "data": {
            "text/plain": [
              "[1, 2, 6, 8, 9]"
            ]
          },
          "metadata": {},
          "execution_count": 18
        }
      ]
    },
    {
      "cell_type": "code",
      "source": [],
      "metadata": {
        "id": "rjlwCGvaunK3"
      },
      "execution_count": null,
      "outputs": []
    },
    {
      "cell_type": "markdown",
      "source": [
        "# reverse\n",
        "\n",
        "# it reverse the list"
      ],
      "metadata": {
        "id": "HzhAwleoupwW"
      }
    },
    {
      "cell_type": "code",
      "source": [
        "A = [9,8,5,2,1,43,4,23,2,235,36,32,23,23]\n",
        "A.reverse()\n"
      ],
      "metadata": {
        "id": "s_I0qRQDurUY"
      },
      "execution_count": 20,
      "outputs": []
    },
    {
      "cell_type": "code",
      "source": [
        "A"
      ],
      "metadata": {
        "colab": {
          "base_uri": "https://localhost:8080/"
        },
        "id": "LsQO-ip4u3qF",
        "outputId": "d1bb93d4-6426-47f6-fb90-a2971c7969d9"
      },
      "execution_count": 21,
      "outputs": [
        {
          "output_type": "execute_result",
          "data": {
            "text/plain": [
              "[23, 23, 32, 36, 235, 2, 23, 4, 43, 1, 2, 5, 8, 9]"
            ]
          },
          "metadata": {},
          "execution_count": 21
        }
      ]
    },
    {
      "cell_type": "code",
      "source": [],
      "metadata": {
        "id": "jtY3Ys56u6iu"
      },
      "execution_count": null,
      "outputs": []
    },
    {
      "cell_type": "markdown",
      "source": [
        "# copy\n",
        "\n",
        "# it copy the one list into another\n",
        "\n"
      ],
      "metadata": {
        "id": "_UKSBe6Hu89k"
      }
    },
    {
      "cell_type": "code",
      "source": [
        "A = [ 1,4,76,3,56,32,2]\n",
        "B = A\n",
        "A.insert(2,\"Nadeem\")\n",
        "print(B)"
      ],
      "metadata": {
        "colab": {
          "base_uri": "https://localhost:8080/"
        },
        "id": "CT2WaXOZvBmh",
        "outputId": "5b1073b2-90fe-483f-9594-00769967db60"
      },
      "execution_count": 23,
      "outputs": [
        {
          "output_type": "stream",
          "name": "stdout",
          "text": [
            "[1, 4, 'Nadeem', 76, 3, 56, 32, 2]\n"
          ]
        }
      ]
    },
    {
      "cell_type": "code",
      "source": [],
      "metadata": {
        "id": "RC4qzNZkvFDt"
      },
      "execution_count": null,
      "outputs": []
    }
  ]
}