{
  "cells": [
    {
      "cell_type": "code",
      "execution_count": null,
      "metadata": {
        "colab": {
          "base_uri": "https://localhost:8080/"
        },
        "id": "MGlSClGkh3fj",
        "outputId": "a9341bf6-ef22-4842-db4d-db8e50f2695e"
      },
      "outputs": [
        {
          "name": "stdout",
          "output_type": "stream",
          "text": [
            "20\n"
          ]
        }
      ],
      "source": [
        "x=20\n",
        "print(x)"
      ]
    },
    {
      "cell_type": "code",
      "execution_count": null,
      "metadata": {
        "colab": {
          "base_uri": "https://localhost:8080/"
        },
        "id": "4Qz7jY_wh6oh",
        "outputId": "b8334944-5427-4cee-ba3a-faf4d45c50bb"
      },
      "outputs": [
        {
          "name": "stdout",
          "output_type": "stream",
          "text": [
            "10\n"
          ]
        }
      ],
      "source": [
        "y=10\n",
        "print(y)"
      ]
    },
    {
      "cell_type": "code",
      "execution_count": null,
      "metadata": {
        "colab": {
          "base_uri": "https://localhost:8080/"
        },
        "id": "_6zBTH01h7uq",
        "outputId": "b8a984fc-8164-4a30-ef5f-126c3f61da18"
      },
      "outputs": [
        {
          "name": "stdout",
          "output_type": "stream",
          "text": [
            "30\n"
          ]
        }
      ],
      "source": [
        "print(x+y)"
      ]
    },
    {
      "cell_type": "code",
      "execution_count": null,
      "metadata": {
        "colab": {
          "base_uri": "https://localhost:8080/"
        },
        "id": "3h2xSOO2jGWm",
        "outputId": "8079b43f-cb6f-47d9-9043-6295ddabfb56"
      },
      "outputs": [
        {
          "name": "stdout",
          "output_type": "stream",
          "text": [
            "2.0\n"
          ]
        }
      ],
      "source": [
        "print(x/y)"
      ]
    },
    {
      "cell_type": "code",
      "execution_count": null,
      "metadata": {
        "id": "EEXLQpKXjZGB"
      },
      "outputs": [],
      "source": [
        "#variable name start with alphabet\n",
        "#variable name should not contain special character like $ % @\n",
        "#variable name contain number but not startwith number\n",
        "#variable name not startwith capital letter but it is recommanded\n",
        "\n",
        "# name=12 #valid\n",
        "# 12namdm =12 #notvalid\n",
        "# sumon =12  #not valid\n",
        "# SumanAsdj = \"12\" # not recommanded\n"
      ]
    },
    {
      "cell_type": "code",
      "execution_count": null,
      "metadata": {
        "colab": {
          "base_uri": "https://localhost:8080/"
        },
        "id": "wRQ9NfBBu35E",
        "outputId": "97738ac6-bfc4-452b-904a-3de64474f839"
      },
      "outputs": [
        {
          "name": "stdout",
          "output_type": "stream",
          "text": [
            "nad 20 30\n"
          ]
        }
      ],
      "source": [
        "name=\"nad\"\n",
        "number_first = 20\n",
        "numberFirst = 30\n",
        "print(name,number_first,numberFirst)"
      ]
    },
    {
      "cell_type": "code",
      "execution_count": null,
      "metadata": {
        "colab": {
          "base_uri": "https://localhost:8080/",
          "height": 108
        },
        "id": "juHEjTmHu_oW",
        "outputId": "d015cd39-7dc1-4bb0-fcc9-f7b7245a80c0"
      },
      "outputs": [
        {
          "ename": "SyntaxError",
          "evalue": "cannot assign to expression here. Maybe you meant '==' instead of '='? (<ipython-input-7-ba67e654e178>, line 1)",
          "output_type": "error",
          "traceback": [
            "\u001b[0;36m  File \u001b[0;32m\"<ipython-input-7-ba67e654e178>\"\u001b[0;36m, line \u001b[0;32m1\u001b[0m\n\u001b[0;31m    number/najsd=120 #can not assign to operator\u001b[0m\n\u001b[0m    ^\u001b[0m\n\u001b[0;31mSyntaxError\u001b[0m\u001b[0;31m:\u001b[0m cannot assign to expression here. Maybe you meant '==' instead of '='?\n"
          ]
        }
      ],
      "source": [
        "number/najsd=120 #can not assign to operator"
      ]
    },
    {
      "cell_type": "code",
      "execution_count": null,
      "metadata": {
        "id": "k58ketJevg5p"
      },
      "outputs": [],
      "source": [
        "__num = 100.  #it means it is a hidden variable\n",
        "print(__num)"
      ]
    },
    {
      "cell_type": "markdown",
      "metadata": {
        "id": "DtdupS6C_FsT"
      },
      "source": [
        "# Today agenda\n",
        "\n",
        "*   Variable case sensativity\n",
        "\n",
        "*   reversed work in python\n",
        "\n",
        "* multi assignment of variable\n",
        "* user input\n",
        "* type casting\n",
        "* meomary block\n",
        "* operator\n",
        "  * logical\n",
        "  * equality\n",
        "  * comparison\n",
        "  * arthimetic\n",
        "  * bitwise (Advance class)\n",
        "  * operator for set and dictonary (Advance class)\n",
        "\n",
        "\n",
        "* string method\n",
        "\n",
        "\n",
        "\n"
      ]
    },
    {
      "cell_type": "markdown",
      "metadata": {
        "id": "k7LcoiGISi8M"
      },
      "source": [
        "# New Section"
      ]
    },
    {
      "cell_type": "markdown",
      "metadata": {
        "id": "isL9nsCySjqh"
      },
      "source": [
        "# New Section"
      ]
    },
    {
      "cell_type": "code",
      "execution_count": null,
      "metadata": {
        "id": "VK7FWQ-FnzzA"
      },
      "outputs": [],
      "source": [
        "# case sensativity\n",
        "\n",
        "Ten = 10\n",
        "ten = 10\n",
        "\n",
        "#these both are different\n",
        "\n",
        "print(Ten,ten)\n"
      ]
    },
    {
      "cell_type": "code",
      "execution_count": null,
      "metadata": {
        "colab": {
          "base_uri": "https://localhost:8080/"
        },
        "id": "JDu8DxbQn0QK",
        "outputId": "da1f5155-de03-49c6-aa2f-f6974fc26e06"
      },
      "outputs": [
        {
          "data": {
            "text/plain": [
              "str"
            ]
          },
          "execution_count": 9,
          "metadata": {},
          "output_type": "execute_result"
        }
      ],
      "source": [
        "# reserved word in python\n",
        "print = \"Hello nadeem\"\n",
        "type(print)\n",
        "# print(print)\n",
        "\n",
        "#you can not use reserved word as variable\n",
        "#python does not restrict you to use reserved word as varibale name"
      ]
    },
    {
      "cell_type": "code",
      "execution_count": null,
      "metadata": {
        "colab": {
          "base_uri": "https://localhost:8080/"
        },
        "id": "duLmY28zn0ma",
        "outputId": "5edf3f9d-83cc-4070-f4f7-cddbbf75864f"
      },
      "outputs": [
        {
          "name": "stdout",
          "output_type": "stream",
          "text": [
            "hello\n"
          ]
        }
      ],
      "source": [
        "print(\"hello\")"
      ]
    },
    {
      "cell_type": "code",
      "execution_count": null,
      "metadata": {
        "id": "YiCGGhwGv88p"
      },
      "outputs": [],
      "source": [
        "#reserved word in python\n",
        "#ref link - https://realpython.com/lessons/reserved-keywords/\n",
        "\n"
      ]
    },
    {
      "cell_type": "code",
      "execution_count": null,
      "metadata": {
        "colab": {
          "base_uri": "https://localhost:8080/"
        },
        "id": "5ReNKUuzDr7A",
        "outputId": "d67d6270-8cf3-41a1-e1bb-290417807d39"
      },
      "outputs": [
        {
          "name": "stdout",
          "output_type": "stream",
          "text": [
            "Nadem\n"
          ]
        }
      ],
      "source": [
        "nn = \"Nadem\"\n",
        "print(nn)"
      ]
    },
    {
      "cell_type": "code",
      "execution_count": null,
      "metadata": {
        "id": "ImBoeAIiDvMO"
      },
      "outputs": [],
      "source": [
        "# multi assignment of variable"
      ]
    },
    {
      "cell_type": "code",
      "execution_count": null,
      "metadata": {
        "colab": {
          "base_uri": "https://localhost:8080/"
        },
        "id": "RIDzGGbtDvIz",
        "outputId": "6a49d896-3ac8-49e0-941c-d8fd9928e270"
      },
      "outputs": [
        {
          "name": "stdout",
          "output_type": "stream",
          "text": [
            "10 2.0 nadeem\n",
            "<class 'int'>\n",
            "<class 'float'>\n",
            "<class 'str'>\n"
          ]
        }
      ],
      "source": [
        "a,b,name = 10,2.0,'nadeem'\n",
        "print(a,b,name)\n",
        "\n",
        "print(type(a))\n",
        "print(type(b))\n",
        "print(type(name))"
      ]
    },
    {
      "cell_type": "code",
      "execution_count": null,
      "metadata": {
        "colab": {
          "base_uri": "https://localhost:8080/",
          "height": 162
        },
        "id": "0jpbm2ZUDvGo",
        "outputId": "ad47a8ad-7b56-49b2-f034-a926459d8be6"
      },
      "outputs": [
        {
          "ename": "TypeError",
          "evalue": "cannot unpack non-iterable int object",
          "output_type": "error",
          "traceback": [
            "\u001b[0;31m---------------------------------------------------------------------------\u001b[0m",
            "\u001b[0;31mTypeError\u001b[0m                                 Traceback (most recent call last)",
            "\u001b[0;32m<ipython-input-11-ea1ee68e2eaf>\u001b[0m in \u001b[0;36m<cell line: 1>\u001b[0;34m()\u001b[0m\n\u001b[0;32m----> 1\u001b[0;31m \u001b[0md\u001b[0m\u001b[0;34m,\u001b[0m\u001b[0me\u001b[0m \u001b[0;34m,\u001b[0m\u001b[0mf\u001b[0m \u001b[0;34m=\u001b[0m \u001b[0;36m20\u001b[0m\u001b[0;34m\u001b[0m\u001b[0;34m\u001b[0m\u001b[0m\n\u001b[0m\u001b[1;32m      2\u001b[0m \u001b[0mprint\u001b[0m\u001b[0;34m(\u001b[0m\u001b[0md\u001b[0m\u001b[0;34m,\u001b[0m\u001b[0me\u001b[0m\u001b[0;34m,\u001b[0m\u001b[0mf\u001b[0m\u001b[0;34m)\u001b[0m\u001b[0;34m\u001b[0m\u001b[0;34m\u001b[0m\u001b[0m\n",
            "\u001b[0;31mTypeError\u001b[0m: cannot unpack non-iterable int object"
          ]
        }
      ],
      "source": [
        "d,e ,f = 20\n",
        "print(d,e,f)"
      ]
    },
    {
      "cell_type": "code",
      "execution_count": null,
      "metadata": {
        "colab": {
          "base_uri": "https://localhost:8080/"
        },
        "id": "KqwBYMXVDvEO",
        "outputId": "ceb106c0-3251-411e-e99e-f16515c6f58b"
      },
      "outputs": [
        {
          "name": "stdout",
          "output_type": "stream",
          "text": [
            "20 20 20\n"
          ]
        }
      ],
      "source": [
        "a=b=c = 20\n",
        "print(a,b,c)"
      ]
    },
    {
      "cell_type": "code",
      "execution_count": null,
      "metadata": {
        "colab": {
          "base_uri": "https://localhost:8080/"
        },
        "id": "f3aQUdo4DvBi",
        "outputId": "847f5e48-0147-45c8-c346-23e9d441bc0f"
      },
      "outputs": [
        {
          "name": "stdout",
          "output_type": "stream",
          "text": [
            "10 nako True 45.3\n"
          ]
        }
      ],
      "source": [
        "a,A,b,B = 10,\"nako\",True,45.3 # it will not give any error because variable is case sensativity\n",
        "print(a,A,b,B)"
      ]
    },
    {
      "cell_type": "markdown",
      "metadata": {
        "id": "kS9PMf8hGf_w"
      },
      "source": [
        "# User input\n"
      ]
    },
    {
      "cell_type": "code",
      "execution_count": null,
      "metadata": {
        "colab": {
          "base_uri": "https://localhost:8080/"
        },
        "id": "RfxLo57-Du_A",
        "outputId": "e1097ec8-08ef-4114-8acd-bdd6c8ca68eb"
      },
      "outputs": [
        {
          "name": "stdout",
          "output_type": "stream",
          "text": [
            "Enter your name kch nhi'\n",
            "your name is kch nhi'\n"
          ]
        }
      ],
      "source": [
        "name = input(\"Enter your name \")\n",
        "print(f\"your name is {name}\")"
      ]
    },
    {
      "cell_type": "markdown",
      "metadata": {
        "id": "Nixb8wT8HM9T"
      },
      "source": [
        "# type casting"
      ]
    },
    {
      "cell_type": "code",
      "execution_count": null,
      "metadata": {
        "colab": {
          "base_uri": "https://localhost:8080/"
        },
        "id": "qQWwfvZhDu8B",
        "outputId": "9fa580a8-7764-48f9-dff9-be4b5a49d2dd"
      },
      "outputs": [
        {
          "name": "stdout",
          "output_type": "stream",
          "text": [
            "Enter num1 12\n",
            "Enter num2 34\n",
            "Sum of 12 and 34 is 1234\n",
            "<class 'str'>\n",
            "<class 'str'>\n"
          ]
        }
      ],
      "source": [
        "num1 = input(\"Enter num1 \")\n",
        "num2 = input(\"Enter num2 \")\n",
        "\n",
        "print(f\"Sum of {num1} and {num2} is {num1+num2}\")\n",
        "\n",
        "#it will give wrong output because it num1 and num2 is string to convert this into int we need type casting\n",
        "\n",
        "print(type(num1))\n",
        "print(type(num2))\n",
        "\n",
        "#you can type of variable"
      ]
    },
    {
      "cell_type": "code",
      "execution_count": null,
      "metadata": {
        "id": "GdTXJ9hmDu5F"
      },
      "outputs": [],
      "source": [
        "# to solve the above issue we need type conversation\n",
        "\n"
      ]
    },
    {
      "cell_type": "markdown",
      "metadata": {
        "id": "uqwog6zoDs0i"
      },
      "source": []
    },
    {
      "cell_type": "code",
      "execution_count": null,
      "metadata": {
        "colab": {
          "base_uri": "https://localhost:8080/"
        },
        "id": "LFyXE_lXDsaV",
        "outputId": "967e5539-7021-4229-da02-a64b5acca7ae"
      },
      "outputs": [
        {
          "name": "stdout",
          "output_type": "stream",
          "text": [
            "Enter num3 12\n",
            "Enter num4 23\n",
            "Sum of 12 and 23 is 35\n",
            "<class 'int'>\n",
            "<class 'int'>\n"
          ]
        }
      ],
      "source": [
        "num3 = int(input(\"Enter num3 \"))\n",
        "num4 = int(input(\"Enter num4 \"))\n",
        "\n",
        "print(f\"Sum of {num3} and {num4} is {num3+num4}\")\n",
        "\n",
        "#it will give right output because it num3 and num4 is int\n",
        "\n",
        "print(type(num3))\n",
        "print(type(num4))\n",
        "\n",
        "#you can type of variable of these 2 variable after conversion int"
      ]
    },
    {
      "cell_type": "code",
      "execution_count": null,
      "metadata": {
        "colab": {
          "base_uri": "https://localhost:8080/"
        },
        "id": "3dLRQtFsISY1",
        "outputId": "8ead2291-3b08-4d48-8cb2-dd718011b92e"
      },
      "outputs": [
        {
          "name": "stdout",
          "output_type": "stream",
          "text": [
            "Enter n1 12.3\n",
            "Enter n2 12.9\n",
            "Sum of 12.3 and 12.9 is 25.200000000000003\n",
            "<class 'float'>\n",
            "<class 'float'>\n"
          ]
        }
      ],
      "source": [
        "#if you want to give float value then you should give float\n",
        "n1 = float(input(\"Enter n1 \"))\n",
        "n2 = float(input(\"Enter n2 \"))\n",
        "\n",
        "print(f\"Sum of {n1} and {n2} is {n1+n2}\")\n",
        "\n",
        "#it will give right output because it num3 and num4 is int\n",
        "\n",
        "print(type(n1))\n",
        "print(type(n2))\n",
        "\n",
        "#you can type of variable of these 2 variable after conversion int"
      ]
    },
    {
      "cell_type": "code",
      "execution_count": null,
      "metadata": {
        "colab": {
          "base_uri": "https://localhost:8080/",
          "height": 180
        },
        "id": "2F6cWFbtJ-Gj",
        "outputId": "aad33662-dd90-431c-9694-eb55e64a585a"
      },
      "outputs": [
        {
          "ename": "ValueError",
          "evalue": "invalid literal for int() with base 10: 'df'",
          "output_type": "error",
          "traceback": [
            "\u001b[0;31m---------------------------------------------------------------------------\u001b[0m",
            "\u001b[0;31mValueError\u001b[0m                                Traceback (most recent call last)",
            "\u001b[0;32m<ipython-input-36-8e8c83870a90>\u001b[0m in \u001b[0;36m<cell line: 5>\u001b[0;34m()\u001b[0m\n\u001b[1;32m      3\u001b[0m \u001b[0;34m\u001b[0m\u001b[0m\n\u001b[1;32m      4\u001b[0m \u001b[0mb\u001b[0m\u001b[0;34m=\u001b[0m \u001b[0;34m\"df\"\u001b[0m\u001b[0;34m\u001b[0m\u001b[0;34m\u001b[0m\u001b[0m\n\u001b[0;32m----> 5\u001b[0;31m \u001b[0mint\u001b[0m\u001b[0;34m(\u001b[0m\u001b[0mb\u001b[0m\u001b[0;34m)\u001b[0m\u001b[0;34m\u001b[0m\u001b[0;34m\u001b[0m\u001b[0m\n\u001b[0m",
            "\u001b[0;31mValueError\u001b[0m: invalid literal for int() with base 10: 'df'"
          ]
        }
      ],
      "source": [
        "a = \"10\"\n",
        "int(a)\n",
        "\n",
        "b= \"df\".  #you can convert only string with number not string\n",
        "int(b)\n"
      ]
    },
    {
      "cell_type": "code",
      "execution_count": null,
      "metadata": {
        "colab": {
          "base_uri": "https://localhost:8080/",
          "height": 216
        },
        "id": "PeY-pvkXKIAC",
        "outputId": "fe89022b-b357-428f-82ff-929f15509afb"
      },
      "outputs": [
        {
          "ename": "ValueError",
          "evalue": "invalid literal for int() with base 10: '30.9'",
          "output_type": "error",
          "traceback": [
            "\u001b[0;31m---------------------------------------------------------------------------\u001b[0m",
            "\u001b[0;31mValueError\u001b[0m                                Traceback (most recent call last)",
            "\u001b[0;32m<ipython-input-42-8119e4198fe6>\u001b[0m in \u001b[0;36m<cell line: 2>\u001b[0;34m()\u001b[0m\n\u001b[1;32m      1\u001b[0m \u001b[0mc\u001b[0m \u001b[0;34m=\u001b[0m \u001b[0;34m\"30.9\"\u001b[0m\u001b[0;34m\u001b[0m\u001b[0;34m\u001b[0m\u001b[0m\n\u001b[0;32m----> 2\u001b[0;31m \u001b[0mint\u001b[0m\u001b[0;34m(\u001b[0m\u001b[0mc\u001b[0m\u001b[0;34m)\u001b[0m \u001b[0;31m# it will give error because we are converting float to int\u001b[0m\u001b[0;34m\u001b[0m\u001b[0;34m\u001b[0m\u001b[0m\n\u001b[0m\u001b[1;32m      3\u001b[0m \u001b[0;34m\u001b[0m\u001b[0m\n\u001b[1;32m      4\u001b[0m \u001b[0;34m\u001b[0m\u001b[0m\n\u001b[1;32m      5\u001b[0m \u001b[0;31m#float int conversion is allow\u001b[0m\u001b[0;34m\u001b[0m\u001b[0;34m\u001b[0m\u001b[0m\n",
            "\u001b[0;31mValueError\u001b[0m: invalid literal for int() with base 10: '30.9'"
          ]
        }
      ],
      "source": [
        "c = \"30.9\"\n",
        "int(c) # it will give error because we are converting float to int\n",
        "\n",
        "\n",
        "#float int conversion is allow\n",
        "\n"
      ]
    },
    {
      "cell_type": "code",
      "execution_count": null,
      "metadata": {
        "colab": {
          "base_uri": "https://localhost:8080/"
        },
        "id": "pV7DY23rO4Ea",
        "outputId": "f652a924-d792-423a-8f6d-531c52c0b108"
      },
      "outputs": [
        {
          "data": {
            "text/plain": [
              "34"
            ]
          },
          "execution_count": 44,
          "metadata": {},
          "output_type": "execute_result"
        }
      ],
      "source": [
        "d = 34.8\n",
        "int(d)"
      ]
    },
    {
      "cell_type": "code",
      "execution_count": null,
      "metadata": {
        "colab": {
          "base_uri": "https://localhost:8080/"
        },
        "id": "qipdcAzrPc_t",
        "outputId": "40d04359-eecd-4980-e426-7a4de1e3452b"
      },
      "outputs": [
        {
          "name": "stdout",
          "output_type": "stream",
          "text": [
            "initial value of g before coonversion 10\n",
            "initial value of g before coonversion True\n"
          ]
        }
      ],
      "source": [
        "#int to bool conversion\n",
        "\n",
        "g = 10\n",
        "print(f\"initial value of g before coonversion {g}\")\n",
        "\n",
        "g= bool(g)\n",
        "print(f\"final value of g before coonversion {g}\")\n"
      ]
    },
    {
      "cell_type": "code",
      "execution_count": null,
      "metadata": {
        "colab": {
          "base_uri": "https://localhost:8080/"
        },
        "id": "tAHCgLJfr4eH",
        "outputId": "f259604e-c601-4e2b-cb9d-0716e31ff7f4"
      },
      "outputs": [
        {
          "name": "stdout",
          "output_type": "stream",
          "text": [
            "initial value of g before coonversion 0\n",
            "final value of g before coonversion False\n"
          ]
        }
      ],
      "source": [
        "g = 0\n",
        "print(f\"initial value of g before coonversion {g}\")\n",
        "\n",
        "g= bool(g)\n",
        "print(f\"final value of g before coonversion {g}\")"
      ]
    },
    {
      "cell_type": "code",
      "execution_count": null,
      "metadata": {
        "colab": {
          "base_uri": "https://localhost:8080/"
        },
        "id": "FnxdfGRMsHav",
        "outputId": "a3fb4336-b403-4cec-97d8-e79ab02e5451"
      },
      "outputs": [
        {
          "name": "stdout",
          "output_type": "stream",
          "text": [
            "initial value of g before coonversion -20\n",
            "final value of g before coonversion True\n"
          ]
        }
      ],
      "source": [
        "g = -20\n",
        "print(f\"initial value of g before coonversion {g}\")\n",
        "\n",
        "g= bool(g)\n",
        "print(f\"final value of g before coonversion {g}\")"
      ]
    },
    {
      "cell_type": "code",
      "execution_count": null,
      "metadata": {
        "id": "eAO7zAhHsLBp"
      },
      "outputs": [],
      "source": [
        "# all others number except 0 will give true\n"
      ]
    },
    {
      "cell_type": "code",
      "execution_count": null,
      "metadata": {
        "colab": {
          "base_uri": "https://localhost:8080/"
        },
        "id": "xOotf160sQYN",
        "outputId": "70403e8b-3f22-45ec-f746-7ec33fc6a3e6"
      },
      "outputs": [
        {
          "name": "stdout",
          "output_type": "stream",
          "text": [
            "initial value of g before coonversion True\n",
            "final value of g before coonversion True\n"
          ]
        }
      ],
      "source": [
        " #stirng to bool\n",
        "e = \"True\"\n",
        "print(f\"initial value of g before coonversion {e}\")\n",
        "\n",
        "e = bool(e)\n",
        "print(f\"final value of g before coonversion {e}\")"
      ]
    },
    {
      "cell_type": "code",
      "execution_count": null,
      "metadata": {
        "colab": {
          "base_uri": "https://localhost:8080/"
        },
        "id": "TL4l-ToSsl5T",
        "outputId": "16ec9288-ef47-47d1-d49a-e30366974ab8"
      },
      "outputs": [
        {
          "name": "stdout",
          "output_type": "stream",
          "text": [
            "initial value of g before coonversion False\n",
            "final value of g before coonversion True\n"
          ]
        }
      ],
      "source": [
        " e = \"False\"\n",
        "print(f\"initial value of g before coonversion {e}\")\n",
        "\n",
        "e = bool(e)\n",
        "print(f\"final value of g before coonversion {e}\")\n",
        "\n",
        "#here it is treating is like a string not value"
      ]
    },
    {
      "cell_type": "code",
      "execution_count": null,
      "metadata": {
        "colab": {
          "base_uri": "https://localhost:8080/"
        },
        "id": "0zb8ixCVso3b",
        "outputId": "569cf80a-793b-4fa4-a693-a8c1b8983a37"
      },
      "outputs": [
        {
          "name": "stdout",
          "output_type": "stream",
          "text": [
            "initial value of g before coonversion \n",
            "final value of g before coonversion False\n"
          ]
        }
      ],
      "source": [
        "#empthy string will give you false\n",
        "h = \"\"\n",
        "print(f\"initial value of g before coonversion {h}\")\n",
        "\n",
        "h = bool(h)\n",
        "print(f\"final value of g before coonversion {h}\")\n",
        "\n"
      ]
    },
    {
      "cell_type": "code",
      "execution_count": null,
      "metadata": {
        "id": "CDZnLuZ1s-4x"
      },
      "outputs": [],
      "source": []
    },
    {
      "cell_type": "markdown",
      "metadata": {
        "id": "siCZdpFGGGSw"
      },
      "source": [
        "Meromary block\n"
      ]
    },
    {
      "cell_type": "code",
      "execution_count": null,
      "metadata": {
        "colab": {
          "base_uri": "https://localhost:8080/"
        },
        "id": "JlaUh2AbGHRx",
        "outputId": "00d9333b-fd42-47b1-8eeb-22fa63d20e41"
      },
      "outputs": [
        {
          "data": {
            "text/plain": [
              "137068679037456"
            ]
          },
          "execution_count": 4,
          "metadata": {},
          "output_type": "execute_result"
        }
      ],
      "source": [
        "a,b,c = 10,20,30\n",
        "id(a)\n"
      ]
    },
    {
      "cell_type": "code",
      "execution_count": null,
      "metadata": {
        "colab": {
          "base_uri": "https://localhost:8080/"
        },
        "id": "fNsz4lTlGL0B",
        "outputId": "ea456547-3dd3-40e3-dc49-cb3412910bde"
      },
      "outputs": [
        {
          "data": {
            "text/plain": [
              "137068679037776"
            ]
          },
          "execution_count": 5,
          "metadata": {},
          "output_type": "execute_result"
        }
      ],
      "source": [
        "id(b)\n"
      ]
    },
    {
      "cell_type": "code",
      "execution_count": null,
      "metadata": {
        "colab": {
          "base_uri": "https://localhost:8080/"
        },
        "id": "6stnReO2GfAt",
        "outputId": "d3733d99-cc0e-4dc6-8132-26245f7293e5"
      },
      "outputs": [
        {
          "data": {
            "text/plain": [
              "137068679038096"
            ]
          },
          "execution_count": 6,
          "metadata": {},
          "output_type": "execute_result"
        }
      ],
      "source": [
        "id(c)"
      ]
    },
    {
      "cell_type": "code",
      "execution_count": null,
      "metadata": {
        "colab": {
          "base_uri": "https://localhost:8080/"
        },
        "id": "p5Y8WnK-Gfe4",
        "outputId": "705173f4-2a9f-4513-e57e-5b0dda105a72"
      },
      "outputs": [
        {
          "name": "stdout",
          "output_type": "stream",
          "text": [
            "137067562140112 137067562140592\n"
          ]
        }
      ],
      "source": [
        "# if values will be same meomary location will be same\n",
        "\n",
        "d=23.3\n",
        "e=23.3\n",
        "print(id(d),id(e))"
      ]
    },
    {
      "cell_type": "code",
      "execution_count": null,
      "metadata": {
        "colab": {
          "base_uri": "https://localhost:8080/"
        },
        "id": "sOLP80vfGhdj",
        "outputId": "8cd0babc-56bd-4564-94b2-0a61acb6ecff"
      },
      "outputs": [
        {
          "data": {
            "text/plain": [
              "True"
            ]
          },
          "execution_count": 12,
          "metadata": {},
          "output_type": "execute_result"
        }
      ],
      "source": [
        "d==e"
      ]
    },
    {
      "cell_type": "code",
      "execution_count": null,
      "metadata": {
        "colab": {
          "base_uri": "https://localhost:8080/"
        },
        "id": "px85izKgGhw2",
        "outputId": "ef834c95-c40c-4eff-907a-39fd10b40710"
      },
      "outputs": [
        {
          "data": {
            "text/plain": [
              "True"
            ]
          },
          "execution_count": 13,
          "metadata": {},
          "output_type": "execute_result"
        }
      ],
      "source": [
        "d==e"
      ]
    },
    {
      "cell_type": "markdown",
      "metadata": {
        "id": "is1avhVVPBoq"
      },
      "source": [
        "Credit | Debit | Purchase_a_book\n",
        "- | - | -|\n",
        "True | True | True\n",
        "False | False | True\n",
        "\n",
        "\n",
        "\n"
      ]
    },
    {
      "cell_type": "code",
      "execution_count": null,
      "metadata": {
        "colab": {
          "base_uri": "https://localhost:8080/"
        },
        "id": "v-yfPRBSGiO1",
        "outputId": "3569fb66-4e0c-4c1e-86e9-197f94ef6b16"
      },
      "outputs": [
        {
          "name": "stdout",
          "output_type": "stream",
          "text": [
            "go and get the credit and debit card\n"
          ]
        }
      ],
      "source": [
        "Credit = False\n",
        "Debit = False\n",
        "if Credit and Debit:\n",
        "  print(\"I can buy a book\")\n",
        "else:\n",
        "  print(\"go and get the credit and debit card\")"
      ]
    },
    {
      "cell_type": "code",
      "execution_count": null,
      "metadata": {
        "colab": {
          "base_uri": "https://localhost:8080/"
        },
        "id": "oIEQMSLQGiVI",
        "outputId": "58715517-f52d-4841-8afd-2a71d81d24ac"
      },
      "outputs": [
        {
          "name": "stdout",
          "output_type": "stream",
          "text": [
            "I can buy a book\n"
          ]
        }
      ],
      "source": [
        "Credit = False\n",
        "Debit = True\n",
        "if Credit or Debit:\n",
        "  print(\"I can buy a book\")\n",
        "else:\n",
        "  print(\"go and get the credit and debit card\")"
      ]
    },
    {
      "cell_type": "code",
      "execution_count": null,
      "metadata": {
        "colab": {
          "base_uri": "https://localhost:8080/"
        },
        "id": "Rq3maWl3GiaP",
        "outputId": "7bd7e41b-363b-44bb-94d9-7bf77d97af04"
      },
      "outputs": [
        {
          "name": "stdout",
          "output_type": "stream",
          "text": [
            "go and get the credit and debit card\n"
          ]
        }
      ],
      "source": [
        "Credit = False\n",
        "Debit = True\n",
        "UPI = True\n",
        "\n",
        "# if all ther are true then true otherwise false\n",
        "\n",
        "if Credit and Debit and UPI:\n",
        "  print(\"I can buy a book\")\n",
        "else:\n",
        "  print(\"go and get the credit and debit card\")"
      ]
    },
    {
      "cell_type": "markdown",
      "metadata": {
        "id": "DJ6C62ujaJrv"
      },
      "source": [
        "# **Equality operator**\n",
        "\n",
        "Operator | uses | meaning\n",
        "- | - | - |\n",
        "is | A is b | Return true if A and b refer to same object\n",
        "is not |  A is not b| Return fal\n",
        "== | A==b |\n",
        "!= | A1=b |\n",
        "\n"
      ]
    },
    {
      "cell_type": "code",
      "execution_count": null,
      "metadata": {
        "colab": {
          "base_uri": "https://localhost:8080/"
        },
        "id": "B-X6-7gBGifI",
        "outputId": "10c858b5-df3a-4522-f0c6-b8ee4f894c7b"
      },
      "outputs": [
        {
          "name": "stdout",
          "output_type": "stream",
          "text": [
            "A is b\n"
          ]
        }
      ],
      "source": [
        "a = 1\n",
        "b = 1\n",
        "if a is b:\n",
        "  print(\"A is b\")\n",
        "else:\n",
        "  print(\"A is not b\")"
      ]
    },
    {
      "cell_type": "markdown",
      "metadata": {
        "id": "dW7kEorpaHRC"
      },
      "source": []
    },
    {
      "cell_type": "code",
      "execution_count": null,
      "metadata": {
        "colab": {
          "base_uri": "https://localhost:8080/"
        },
        "id": "jKcAXsI0Gijg",
        "outputId": "5fcd5bb7-7ed7-4eb4-fe24-6d2344e0c0c6"
      },
      "outputs": [
        {
          "name": "stdout",
          "output_type": "stream",
          "text": [
            "A is not b\n"
          ]
        }
      ],
      "source": [
        "a = 1\n",
        "b = 2\n",
        "if a is not b:\n",
        "  print(\"A is not b\")\n",
        "else:\n",
        "  print(\"A is  b\")"
      ]
    },
    {
      "cell_type": "code",
      "execution_count": null,
      "metadata": {
        "colab": {
          "base_uri": "https://localhost:8080/"
        },
        "id": "bfsbNnZlyb1y",
        "outputId": "f75f6729-aa04-45a2-c74d-048629537d97"
      },
      "outputs": [
        {
          "name": "stdout",
          "output_type": "stream",
          "text": [
            "135832740542848 135832738484672\n"
          ]
        },
        {
          "data": {
            "text/plain": [
              "True"
            ]
          },
          "execution_count": 4,
          "metadata": {},
          "output_type": "execute_result"
        }
      ],
      "source": [
        "A = [\"Nad\",\"Sam\"]\n",
        "B = [\"Alt\",\"Man\"]\n",
        "\n",
        "print(id(A),id(B))\n",
        "\n",
        "A is B\n",
        "A is not B"
      ]
    },
    {
      "cell_type": "code",
      "execution_count": null,
      "metadata": {
        "colab": {
          "base_uri": "https://localhost:8080/"
        },
        "id": "kNyez6n6Qnqu",
        "outputId": "4710eeb0-eb66-475b-9829-04098ec4b05b"
      },
      "outputs": [
        {
          "data": {
            "text/plain": [
              "False"
            ]
          },
          "execution_count": 8,
          "metadata": {},
          "output_type": "execute_result"
        }
      ],
      "source": [
        "c = 346\n",
        "d = 346\n",
        "# it will work only 256\n",
        "\n",
        "c is d"
      ]
    },
    {
      "cell_type": "code",
      "execution_count": null,
      "metadata": {
        "colab": {
          "base_uri": "https://localhost:8080/"
        },
        "id": "mJtjZtSXUAgx",
        "outputId": "12390318-efb7-4ded-edce-07fc5073a787"
      },
      "outputs": [
        {
          "data": {
            "text/plain": [
              "True"
            ]
          },
          "execution_count": 9,
          "metadata": {},
          "output_type": "execute_result"
        }
      ],
      "source": [
        "e = 345\n",
        "f = 345\n",
        "\n",
        "e == f"
      ]
    },
    {
      "cell_type": "markdown",
      "metadata": {
        "id": "xMeLJiTAbjdF"
      },
      "source": [
        "# String Method\n"
      ]
    },
    {
      "cell_type": "code",
      "execution_count": null,
      "metadata": {
        "colab": {
          "base_uri": "https://localhost:8080/"
        },
        "id": "NOtBo_YRUGrQ",
        "outputId": "b7952796-1d13-432e-a06e-96e1d5f9e64c"
      },
      "outputs": [
        {
          "name": "stdout",
          "output_type": "stream",
          "text": [
            "Today date is 10the 07 month and 2024\n"
          ]
        }
      ],
      "source": [
        "date = \"10/07/2024\"\n",
        "# Make this string in date format\n",
        "\n",
        "today = date[0:2]\n",
        "month = date[3:5]\n",
        "year = date[6:]\n",
        "\n",
        "print(f\"Today date is {today}the {month}month and {year}\")"
      ]
    },
    {
      "cell_type": "code",
      "execution_count": null,
      "metadata": {
        "colab": {
          "base_uri": "https://localhost:8080/"
        },
        "id": "7s2Ex91WdGRS",
        "outputId": "a5e630e6-c1c6-4df8-b417-e11fee050d4d"
      },
      "outputs": [
        {
          "name": "stdout",
          "output_type": "stream",
          "text": [
            "Enter your date of birth in DD/MM/YYYY 8/07/2009\n",
            "User was born in  8/the  of  7/month  009\n"
          ]
        }
      ],
      "source": [
        "date = input(\"Enter your date of birth in DD/MM/YYYY \")\n",
        "# Make this string in date format\n",
        "\n",
        "today = date[0:2]\n",
        "month = date[3:5]\n",
        "year = date[6:]\n",
        "\n",
        "print(f\"User was born in  {today}the  of  {month}month  {year}\")"
      ]
    },
    {
      "cell_type": "code",
      "execution_count": null,
      "metadata": {
        "id": "q_cUC3Z6eiNz"
      },
      "outputs": [],
      "source": [
        "# Check palindrome number\n",
        "\n",
        "# those number are same with left to right to right to left\n",
        "\n",
        "# malayalam\n",
        "# Madam\n"
      ]
    },
    {
      "cell_type": "code",
      "execution_count": null,
      "metadata": {
        "colab": {
          "base_uri": "https://localhost:8080/"
        },
        "id": "mbVOcbJmff_2",
        "outputId": "62970749-ba6e-4eca-894f-5208e44f9c6a"
      },
      "outputs": [
        {
          "name": "stdout",
          "output_type": "stream",
          "text": [
            "it palindrome\n"
          ]
        }
      ],
      "source": [
        "name = \"malayalam\"\n",
        "\n",
        "if name == name[::-1]:\n",
        "  print(\"it palindrome\")\n",
        "else:\n",
        "  print(\"not palindrome\")"
      ]
    },
    {
      "cell_type": "code",
      "execution_count": null,
      "metadata": {
        "colab": {
          "base_uri": "https://localhost:8080/"
        },
        "id": "F9bSr9tSfxkz",
        "outputId": "21f73a7d-2e55-4efd-83a6-308ba8b4bbf5"
      },
      "outputs": [
        {
          "name": "stdout",
          "output_type": "stream",
          "text": [
            "Fadeem\n"
          ]
        }
      ],
      "source": [
        "name = \"Nadeem\"\n",
        "\n",
        "# change this to Fadeem\n",
        "# we can do this by many way but in this video we will see by concatination method\n",
        "newname = name[1:]\n",
        "\n",
        "print(\"F\"+newname)"
      ]
    },
    {
      "cell_type": "code",
      "execution_count": null,
      "metadata": {
        "colab": {
          "base_uri": "https://localhost:8080/"
        },
        "id": "9qFCzOYFjXoK",
        "outputId": "31ef69c6-03c4-4f50-f085-c1ed5c01e8b2"
      },
      "outputs": [
        {
          "name": "stdout",
          "output_type": "stream",
          "text": [
            "Fadeem\n"
          ]
        }
      ],
      "source": [
        "# String has given one method to us replace , so with the help of thie method we can replace the S by F\n",
        "\n",
        "changeName = name.replace(\"N\",\"F\")\n",
        "print(changeName)"
      ]
    },
    {
      "cell_type": "code",
      "execution_count": null,
      "metadata": {
        "colab": {
          "base_uri": "https://localhost:8080/"
        },
        "id": "OdhRtRJBjmYF",
        "outputId": "368daf1c-fbde-4c4d-8529-592b9ec7effb"
      },
      "outputs": [
        {
          "name": "stdout",
          "output_type": "stream",
          "text": [
            "MD NADEEM ANWAR\n",
            "md nadeem anwar\n"
          ]
        }
      ],
      "source": [
        "# To make capatilize of string using this method\n",
        "\n",
        "fullName = \"Md Nadeem ANWAR\"\n",
        "print(fullName.upper())\n",
        "print(fullName.lower())"
      ]
    },
    {
      "cell_type": "code",
      "execution_count": null,
      "metadata": {
        "colab": {
          "base_uri": "https://localhost:8080/"
        },
        "id": "KZ8TQ8z7j77u",
        "outputId": "afdd1c08-28ef-4cad-ce2b-6dc5463ec6b8"
      },
      "outputs": [
        {
          "data": {
            "text/plain": [
              "6"
            ]
          },
          "execution_count": 21,
          "metadata": {},
          "output_type": "execute_result"
        }
      ],
      "source": [
        "# check the length of the string\n",
        "\n",
        "len(\"MDKHAN\")"
      ]
    },
    {
      "cell_type": "markdown",
      "metadata": {
        "id": "vCI2tLOVSaxM"
      },
      "source": [
        "# condition\n"
      ]
    },
    {
      "cell_type": "code",
      "execution_count": null,
      "metadata": {
        "colab": {
          "base_uri": "https://localhost:8080/"
        },
        "id": "-rTQ2EFly6lH",
        "outputId": "53475b76-5800-4e35-fb65-ea7a0dda0a0d"
      },
      "outputs": [
        {
          "name": "stdout",
          "output_type": "stream",
          "text": [
            "A is big 20\n"
          ]
        }
      ],
      "source": [
        "# if else\n",
        "\n",
        "a = 20\n",
        "\n",
        "if a>10:\n",
        "  print(\"A is big\",a)\n",
        "else:\n",
        "  print(\"A is smaller\")"
      ]
    },
    {
      "cell_type": "markdown",
      "metadata": {
        "id": "xwKJC-57Fwgx"
      },
      "source": [
        "# Types of loop\n",
        "\n",
        "\n",
        "1.   while loop\n",
        "2.   For loop\n",
        "3.   Loop control\n",
        "\n",
        "\n",
        "*   break\n",
        "*   continue\n",
        "*   pass\n",
        "\n",
        "4.  Nested loop\n",
        "\n",
        "\n",
        "\n"
      ]
    },
    {
      "cell_type": "code",
      "execution_count": null,
      "metadata": {
        "colab": {
          "base_uri": "https://localhost:8080/"
        },
        "id": "1z0lr88BS2yX",
        "outputId": "fc9e6bd8-b2e4-4d5e-9532-b5d4f660f8a5"
      },
      "outputs": [
        {
          "name": "stdout",
          "output_type": "stream",
          "text": [
            " Your score is 200 and cutoff is 600\n",
            " Your score is 300 and cutoff is 600\n",
            " Your score is 400 and cutoff is 600\n",
            " Your score is 500 and cutoff is 600\n"
          ]
        }
      ],
      "source": [
        "# First while loop\n",
        "\n",
        "passingMark = 600\n",
        "yourScrore = [100,200,300,400,500,600]\n",
        "year = 1\n",
        "\n",
        "while yourScrore[year] < passingMark:\n",
        "  print(f\" Your score is {yourScrore[year]} and cutoff is {passingMark}\")\n",
        "  year+=1"
      ]
    },
    {
      "cell_type": "code",
      "execution_count": null,
      "metadata": {
        "id": "_fZ_v8ujFjRn"
      },
      "outputs": [],
      "source": [
        "#infinite loop\n",
        "\n",
        "while False:\n",
        "  print(\"infinite loop\")"
      ]
    },
    {
      "cell_type": "code",
      "execution_count": null,
      "metadata": {
        "id": "hzaGb3uSHAmn",
        "colab": {
          "base_uri": "https://localhost:8080/"
        },
        "outputId": "17bd2127-78f0-40ca-cab6-8a6c576fba2a"
      },
      "outputs": [
        {
          "output_type": "stream",
          "name": "stdout",
          "text": [
            "printing the value of x 2\n",
            "printing the value of x 3\n",
            "printing the value of x 4\n",
            "it break the condition and coming into the else block\n"
          ]
        }
      ],
      "source": [
        "# while else condition\n",
        "\n",
        "# while if True\n",
        "# execute this statement\n",
        "# else execute this statement\n",
        "\n",
        "x = 2\n",
        "while x<5:\n",
        "  print(\"printing the value of x\",x);\n",
        "  x+=1\n",
        "else:\n",
        "  print(\"it break the condition and coming into the else block\")"
      ]
    },
    {
      "cell_type": "markdown",
      "source": [
        "### For loop"
      ],
      "metadata": {
        "id": "wZ__wMHRn7Et"
      }
    },
    {
      "cell_type": "code",
      "source": [
        "for i in range(1,10):\n",
        "  print(i)"
      ],
      "metadata": {
        "colab": {
          "base_uri": "https://localhost:8080/"
        },
        "id": "ATC3UD3Rnb2h",
        "outputId": "49436a05-9d50-43c1-b4f6-57989690d961"
      },
      "execution_count": null,
      "outputs": [
        {
          "output_type": "stream",
          "name": "stdout",
          "text": [
            "1\n",
            "2\n",
            "3\n",
            "4\n",
            "5\n",
            "6\n",
            "7\n",
            "8\n",
            "9\n"
          ]
        }
      ]
    },
    {
      "cell_type": "code",
      "source": [
        "# 10 table\n",
        "for i in range(1,10):\n",
        "    print(f\"10 X {i}\",i*10)\n"
      ],
      "metadata": {
        "colab": {
          "base_uri": "https://localhost:8080/"
        },
        "id": "bfzh2LQFoCgv",
        "outputId": "9574e99c-7be0-45d8-e69c-c1b9d40d53c5"
      },
      "execution_count": null,
      "outputs": [
        {
          "output_type": "stream",
          "name": "stdout",
          "text": [
            "10 X 1 10\n",
            "10 X 2 20\n",
            "10 X 3 30\n",
            "10 X 4 40\n",
            "10 X 5 50\n",
            "10 X 6 60\n",
            "10 X 7 70\n",
            "10 X 8 80\n",
            "10 X 9 90\n"
          ]
        }
      ]
    },
    {
      "cell_type": "code",
      "source": [],
      "metadata": {
        "id": "3ZEeHxTMoZfN"
      },
      "execution_count": null,
      "outputs": []
    }
  ],
  "metadata": {
    "colab": {
      "toc_visible": true,
      "provenance": []
    },
    "kernelspec": {
      "display_name": "Python 3",
      "name": "python3"
    },
    "language_info": {
      "name": "python"
    }
  },
  "nbformat": 4,
  "nbformat_minor": 0
}
