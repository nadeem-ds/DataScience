{
  "nbformat": 4,
  "nbformat_minor": 0,
  "metadata": {
    "colab": {
      "provenance": []
    },
    "kernelspec": {
      "name": "python3",
      "display_name": "Python 3"
    },
    "language_info": {
      "name": "python"
    }
  },
  "cells": [
    {
      "cell_type": "markdown",
      "source": [
        "#Set"
      ],
      "metadata": {
        "id": "aGFDRpVO2MDc"
      }
    },
    {
      "cell_type": "code",
      "source": [
        "thisset = {\"apple\", \"banana\", \"cherry\"}\n",
        "\n",
        "print(thisset)"
      ],
      "metadata": {
        "colab": {
          "base_uri": "https://localhost:8080/"
        },
        "id": "8dP55Okv2NCR",
        "outputId": "5117b75a-5a94-4f9d-cce5-269b013a1349"
      },
      "execution_count": 2,
      "outputs": [
        {
          "output_type": "stream",
          "name": "stdout",
          "text": [
            "{'apple', 'banana', 'cherry'}\n"
          ]
        }
      ]
    },
    {
      "cell_type": "code",
      "source": [],
      "metadata": {
        "id": "xk5VCsWu2iJM"
      },
      "execution_count": null,
      "outputs": []
    },
    {
      "cell_type": "markdown",
      "source": [
        "#you can not add duplicate value inside the set\n"
      ],
      "metadata": {
        "id": "rtY-Wari2r9s"
      }
    },
    {
      "cell_type": "code",
      "source": [
        "myset = {\"apple\", \"banana\", \"cherry\", \"apple\",True,1}\n",
        "\n",
        "print(myset)\n",
        "#it will remove the 1 because true and 1 is same true that's why same like false and 0"
      ],
      "metadata": {
        "colab": {
          "base_uri": "https://localhost:8080/"
        },
        "id": "1UVppazD2unt",
        "outputId": "927bc5ae-1c7a-4a26-a443-55cf917c1e5d"
      },
      "execution_count": 7,
      "outputs": [
        {
          "output_type": "stream",
          "name": "stdout",
          "text": [
            "{'apple', True, 'banana', 'cherry'}\n"
          ]
        }
      ]
    },
    {
      "cell_type": "markdown",
      "source": [
        "#Set method"
      ],
      "metadata": {
        "id": "1oi_6-in2_qS"
      }
    },
    {
      "cell_type": "markdown",
      "source": [
        "#1. add"
      ],
      "metadata": {
        "id": "zhPHUZze3DlI"
      }
    },
    {
      "cell_type": "code",
      "source": [
        "myset.add(\"NAdeem\")\n",
        "myset"
      ],
      "metadata": {
        "colab": {
          "base_uri": "https://localhost:8080/"
        },
        "id": "N9lJlepd2zu_",
        "outputId": "c17a5d17-37b2-4afb-8550-1915c9a2f09d"
      },
      "execution_count": 6,
      "outputs": [
        {
          "output_type": "execute_result",
          "data": {
            "text/plain": [
              "{'NAdeem', True, 'apple', 'banana', 'cherry'}"
            ]
          },
          "metadata": {},
          "execution_count": 6
        }
      ]
    },
    {
      "cell_type": "markdown",
      "source": [],
      "metadata": {
        "id": "dHxLduKH3CM2"
      }
    },
    {
      "cell_type": "code",
      "source": [],
      "metadata": {
        "id": "7Kc6rUB526cf"
      },
      "execution_count": null,
      "outputs": []
    },
    {
      "cell_type": "markdown",
      "source": [
        "#2.clear\n",
        "\n",
        "## what it does it will empathy all the item inside the set"
      ],
      "metadata": {
        "id": "2VY92TKF3MYb"
      }
    },
    {
      "cell_type": "code",
      "source": [
        "myset = {\"asdfsda\",223,True,1,0,\"asdfasd\",\"aa\"}\n",
        "myset.clear()\n",
        "myset"
      ],
      "metadata": {
        "colab": {
          "base_uri": "https://localhost:8080/"
        },
        "id": "7_pmSF0Q3THY",
        "outputId": "9d7f503f-6fda-45ea-ae7d-c5af3fc619ca"
      },
      "execution_count": 9,
      "outputs": [
        {
          "output_type": "execute_result",
          "data": {
            "text/plain": [
              "set()"
            ]
          },
          "metadata": {},
          "execution_count": 9
        }
      ]
    },
    {
      "cell_type": "code",
      "source": [],
      "metadata": {
        "id": "BT6eK9Fh3cWH"
      },
      "execution_count": null,
      "outputs": []
    },
    {
      "cell_type": "markdown",
      "source": [
        "#3.copy\n",
        "\n",
        "## It will copy one set to another **set**"
      ],
      "metadata": {
        "id": "UueVf2dp3gY3"
      }
    },
    {
      "cell_type": "code",
      "source": [
        "myset = {\"asdf\",\"3323\",\"35213\",\"asasdasdas\",True}\n",
        "myset1 = myset.copy()\n",
        "\n",
        "print(myset1) # also it copy according to value length"
      ],
      "metadata": {
        "colab": {
          "base_uri": "https://localhost:8080/"
        },
        "id": "rURBvWDt3nyo",
        "outputId": "d4caeac1-1901-4375-efc3-76a596bef61f"
      },
      "execution_count": 11,
      "outputs": [
        {
          "output_type": "stream",
          "name": "stdout",
          "text": [
            "{True, 'asasdasdas', '35213', 'asdf', '3323'}\n"
          ]
        }
      ]
    },
    {
      "cell_type": "markdown",
      "source": [],
      "metadata": {
        "id": "u9_4vOgw4HUC"
      }
    },
    {
      "cell_type": "markdown",
      "source": [
        "#4.discard\n",
        "\n",
        "## It will remove the element from the set but not give error if it is not present"
      ],
      "metadata": {
        "id": "84aVodBI4HmR"
      }
    },
    {
      "cell_type": "code",
      "source": [
        "myset = {1,2,3}\n",
        "myset.discard(2)\n",
        "\n",
        "print(myset)\n",
        "\n",
        "# it will not give error if i will try to discard the ele that is not present inside the set\n",
        "\n",
        "myset.discard(10)\n",
        "myset"
      ],
      "metadata": {
        "colab": {
          "base_uri": "https://localhost:8080/"
        },
        "id": "ykT7Jaw43yrw",
        "outputId": "38e0a21d-b38f-4b68-e799-8340b887ca99"
      },
      "execution_count": 14,
      "outputs": [
        {
          "output_type": "stream",
          "name": "stdout",
          "text": [
            "{1, 3}\n"
          ]
        },
        {
          "output_type": "execute_result",
          "data": {
            "text/plain": [
              "{1, 3}"
            ]
          },
          "metadata": {},
          "execution_count": 14
        }
      ]
    },
    {
      "cell_type": "code",
      "source": [],
      "metadata": {
        "id": "9YBxge1Q4a0r"
      },
      "execution_count": null,
      "outputs": []
    },
    {
      "cell_type": "markdown",
      "source": [
        "#5.remove\n",
        "\n",
        "## It will remove the element from the set and give error it is not present"
      ],
      "metadata": {
        "id": "JcEVHjUj4rZV"
      }
    },
    {
      "cell_type": "code",
      "source": [
        "myset = {1,2,3,4,5,6}\n",
        "myset.remove(3)"
      ],
      "metadata": {
        "id": "_mw6n8oI4vzu"
      },
      "execution_count": 15,
      "outputs": []
    },
    {
      "cell_type": "code",
      "source": [
        "myset"
      ],
      "metadata": {
        "colab": {
          "base_uri": "https://localhost:8080/"
        },
        "id": "jBNDn3HJ43GY",
        "outputId": "f4939566-0445-4df5-eab1-8e07d52def43"
      },
      "execution_count": 16,
      "outputs": [
        {
          "output_type": "execute_result",
          "data": {
            "text/plain": [
              "{1, 2, 4, 5, 6}"
            ]
          },
          "metadata": {},
          "execution_count": 16
        }
      ]
    },
    {
      "cell_type": "code",
      "source": [
        "myset.remove(10) #will give error"
      ],
      "metadata": {
        "colab": {
          "base_uri": "https://localhost:8080/",
          "height": 144
        },
        "id": "2AxjeRut43yE",
        "outputId": "8adc2a59-72d0-4910-e729-fe9e39c23ef4"
      },
      "execution_count": 17,
      "outputs": [
        {
          "output_type": "error",
          "ename": "KeyError",
          "evalue": "10",
          "traceback": [
            "\u001b[0;31m---------------------------------------------------------------------------\u001b[0m",
            "\u001b[0;31mKeyError\u001b[0m                                  Traceback (most recent call last)",
            "\u001b[0;32m<ipython-input-17-9b9d4fa502db>\u001b[0m in \u001b[0;36m<cell line: 1>\u001b[0;34m()\u001b[0m\n\u001b[0;32m----> 1\u001b[0;31m \u001b[0mmyset\u001b[0m\u001b[0;34m.\u001b[0m\u001b[0mremove\u001b[0m\u001b[0;34m(\u001b[0m\u001b[0;36m10\u001b[0m\u001b[0;34m)\u001b[0m\u001b[0;34m\u001b[0m\u001b[0;34m\u001b[0m\u001b[0m\n\u001b[0m",
            "\u001b[0;31mKeyError\u001b[0m: 10"
          ]
        }
      ]
    },
    {
      "cell_type": "code",
      "source": [],
      "metadata": {
        "id": "Awthwziq45hU"
      },
      "execution_count": null,
      "outputs": []
    },
    {
      "cell_type": "markdown",
      "source": [
        "#6.pop\n",
        "\n",
        "## It will give me any number from the set"
      ],
      "metadata": {
        "id": "UqZoykPu5F9z"
      }
    },
    {
      "cell_type": "code",
      "source": [
        "myset = {2,4,5,8,9,11,23}\n",
        "ele = myset.pop()\n",
        "\n",
        "print(ele)\n",
        "print(myset)"
      ],
      "metadata": {
        "colab": {
          "base_uri": "https://localhost:8080/"
        },
        "id": "HnllIa8L5IMo",
        "outputId": "6d578b2f-34d2-4fb4-8995-da88d59167de"
      },
      "execution_count": 23,
      "outputs": [
        {
          "output_type": "stream",
          "name": "stdout",
          "text": [
            "2\n",
            "{4, 5, 23, 8, 9, 11}\n"
          ]
        }
      ]
    },
    {
      "cell_type": "code",
      "source": [],
      "metadata": {
        "id": "lN5J9hJc5NHZ"
      },
      "execution_count": 20,
      "outputs": []
    },
    {
      "cell_type": "markdown",
      "source": [
        "#7.union\n",
        "\n",
        "## It will give the union of all the set"
      ],
      "metadata": {
        "id": "tvZV-ALi6Zra"
      }
    },
    {
      "cell_type": "code",
      "source": [
        "myset1 = {1,2,3,4,5,6}\n",
        "myset2 = {3,4,5,6,7}\n",
        "myset3={8,9,0,1,2,3,4,45,5,5,6,6,67,6,6,45,4,3,23,22}\n",
        "\n",
        "newset = myset1.union(myset2,myset3)\n",
        "newset"
      ],
      "metadata": {
        "colab": {
          "base_uri": "https://localhost:8080/"
        },
        "id": "2z7ubcGC6eBa",
        "outputId": "991f02a9-96f7-4ab4-f048-365cebfcbde4"
      },
      "execution_count": 24,
      "outputs": [
        {
          "output_type": "execute_result",
          "data": {
            "text/plain": [
              "{0, 1, 2, 3, 4, 5, 6, 7, 8, 9, 22, 23, 45, 67}"
            ]
          },
          "metadata": {},
          "execution_count": 24
        }
      ]
    },
    {
      "cell_type": "markdown",
      "source": [
        "#8.intersection\n",
        "\n",
        "## It will give the common element of all the set"
      ],
      "metadata": {
        "id": "Ko7mR0ic6vXH"
      }
    },
    {
      "cell_type": "code",
      "source": [
        "myset1 = {1,2,3,4,5,6}\n",
        "myset2 = {3,4,5,6,7}\n",
        "myset3={8,9,0,1,2,3,4,45,5,5,6,6,67,6,6,45,4,3,23,22}\n",
        "\n",
        "newset = myset1.intersection(myset2,myset3)\n",
        "newset"
      ],
      "metadata": {
        "colab": {
          "base_uri": "https://localhost:8080/"
        },
        "id": "baLeaNUq6uDJ",
        "outputId": "9290471d-a269-46d3-811a-cb2860bace74"
      },
      "execution_count": 26,
      "outputs": [
        {
          "output_type": "execute_result",
          "data": {
            "text/plain": [
              "{3, 4, 5, 6}"
            ]
          },
          "metadata": {},
          "execution_count": 26
        }
      ]
    },
    {
      "cell_type": "code",
      "source": [],
      "metadata": {
        "id": "WQWWDiHp6444"
      },
      "execution_count": null,
      "outputs": []
    },
    {
      "cell_type": "markdown",
      "source": [
        "#9.issubset\n",
        "\n",
        "## It will tell is myset is subset of next set"
      ],
      "metadata": {
        "id": "4fp3rT3e6-Ak"
      }
    },
    {
      "cell_type": "code",
      "source": [
        "myset1 = {2,3,4,5}\n",
        "myset2 = {1,2,3,4,5,5,6,7,78,8,89,9,990,0}\n",
        "\n",
        "res = myset1.issubset(myset2)\n",
        "res"
      ],
      "metadata": {
        "colab": {
          "base_uri": "https://localhost:8080/"
        },
        "id": "ROBur_U37Ufu",
        "outputId": "c7430f93-58b9-4e3c-9592-0829e9fadf39"
      },
      "execution_count": 29,
      "outputs": [
        {
          "output_type": "execute_result",
          "data": {
            "text/plain": [
              "True"
            ]
          },
          "metadata": {},
          "execution_count": 29
        }
      ]
    },
    {
      "cell_type": "code",
      "source": [],
      "metadata": {
        "id": "kZ3ZGo1T7enk"
      },
      "execution_count": 30,
      "outputs": []
    },
    {
      "cell_type": "markdown",
      "source": [
        "#10.issuperset\n",
        "\n",
        "## It will oppositive of issubset"
      ],
      "metadata": {
        "id": "oFCCICcM71Dy"
      }
    },
    {
      "cell_type": "code",
      "source": [
        "myset1 = {2,3,4,5}\n",
        "myset2 = {1,2,3,4,5,5,6,7,78,8,89,9,990,0}\n",
        "\n",
        "res = myset2.issuperset(myset1)\n",
        "res"
      ],
      "metadata": {
        "colab": {
          "base_uri": "https://localhost:8080/"
        },
        "id": "8cd_T2i470D6",
        "outputId": "929810ad-5b35-4626-82b5-486e41d4d6e7"
      },
      "execution_count": 31,
      "outputs": [
        {
          "output_type": "execute_result",
          "data": {
            "text/plain": [
              "True"
            ]
          },
          "metadata": {},
          "execution_count": 31
        }
      ]
    },
    {
      "cell_type": "code",
      "source": [],
      "metadata": {
        "id": "KlJK4kOv76T_"
      },
      "execution_count": null,
      "outputs": []
    },
    {
      "cell_type": "markdown",
      "source": [
        "#11.len\n",
        "\n",
        "## It will return the length of the set\n"
      ],
      "metadata": {
        "id": "miJypYaD7_zq"
      }
    },
    {
      "cell_type": "code",
      "source": [
        "myset = {3,5,67,3,2,5,6,3,2,21,2,3,5,67,78}\n",
        "len(myset)"
      ],
      "metadata": {
        "colab": {
          "base_uri": "https://localhost:8080/"
        },
        "id": "dRFmebam8GT2",
        "outputId": "3bad3e17-45f7-4880-d710-5f2acfcbf392"
      },
      "execution_count": 32,
      "outputs": [
        {
          "output_type": "execute_result",
          "data": {
            "text/plain": [
              "7"
            ]
          },
          "metadata": {},
          "execution_count": 32
        }
      ]
    },
    {
      "cell_type": "code",
      "source": [],
      "metadata": {
        "id": "GKMAACrJ8Kil"
      },
      "execution_count": null,
      "outputs": []
    },
    {
      "cell_type": "markdown",
      "source": [
        "#12.max\n",
        "\n",
        "## It will return the max ele of the set"
      ],
      "metadata": {
        "id": "K9QT3aoF8ROg"
      }
    },
    {
      "cell_type": "code",
      "source": [
        "myset = {3,5,67,3,2,5,6,3,2,21,2,3,5,67,78}\n",
        "max(myset)"
      ],
      "metadata": {
        "colab": {
          "base_uri": "https://localhost:8080/"
        },
        "id": "SSzW4Gc08UCU",
        "outputId": "787138b8-2bec-4397-8a80-7c55392a331f"
      },
      "execution_count": 33,
      "outputs": [
        {
          "output_type": "execute_result",
          "data": {
            "text/plain": [
              "78"
            ]
          },
          "metadata": {},
          "execution_count": 33
        }
      ]
    },
    {
      "cell_type": "code",
      "source": [],
      "metadata": {
        "id": "pTAXIgJ38VwI"
      },
      "execution_count": null,
      "outputs": []
    },
    {
      "cell_type": "markdown",
      "source": [
        "#13.min\n",
        "\n",
        "## It will return the min ele of the set"
      ],
      "metadata": {
        "id": "d1LZfCNl8Xl1"
      }
    },
    {
      "cell_type": "code",
      "source": [
        "myset = {3,5,67,3,2,5,6,3,2,21,2,3,5,67,78}\n",
        "min(myset)"
      ],
      "metadata": {
        "colab": {
          "base_uri": "https://localhost:8080/"
        },
        "id": "9ptFnyQO8ZhF",
        "outputId": "d720e034-fde9-4e66-d84f-7890c6645ff9"
      },
      "execution_count": 34,
      "outputs": [
        {
          "output_type": "execute_result",
          "data": {
            "text/plain": [
              "2"
            ]
          },
          "metadata": {},
          "execution_count": 34
        }
      ]
    },
    {
      "cell_type": "code",
      "source": [],
      "metadata": {
        "id": "m0CdbfE38bYg"
      },
      "execution_count": null,
      "outputs": []
    },
    {
      "cell_type": "markdown",
      "source": [
        "#14.isdisjoint\n",
        "\n",
        "## It will return true if no common element are present"
      ],
      "metadata": {
        "id": "s3KBiTry8l01"
      }
    },
    {
      "cell_type": "code",
      "source": [
        "myset1 = {2,3,4,5}\n",
        "myset2 = {11,22,33,44,55,66,77,88}\n",
        "\n",
        "myset1.isdisjoint(myset2)"
      ],
      "metadata": {
        "colab": {
          "base_uri": "https://localhost:8080/"
        },
        "id": "tX_lciHk8s4C",
        "outputId": "f74fe748-d400-49fc-fa6c-da9e30f318d1"
      },
      "execution_count": 35,
      "outputs": [
        {
          "output_type": "execute_result",
          "data": {
            "text/plain": [
              "True"
            ]
          },
          "metadata": {},
          "execution_count": 35
        }
      ]
    },
    {
      "cell_type": "code",
      "source": [],
      "metadata": {
        "id": "X6t675Xb81GM"
      },
      "execution_count": null,
      "outputs": []
    }
  ]
}